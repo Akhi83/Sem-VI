{
 "cells": [
  {
   "attachments": {},
   "cell_type": "markdown",
   "metadata": {},
   "source": [
    "# 1A"
   ]
  },
  {
   "cell_type": "code",
   "execution_count": 3,
   "metadata": {},
   "outputs": [
    {
     "name": "stdout",
     "output_type": "stream",
     "text": [
      "1 \n",
      "2 3 \n",
      "4 5 6 \n",
      "7 8 9 10 \n"
     ]
    }
   ],
   "source": [
    "# 1.Write a Python program to print the following pattern.\n",
    "# 1\n",
    "# 2 3\n",
    "# 4 5 6\n",
    "# 7 8 9 10\n",
    "\n",
    "\n",
    "num = 1\n",
    "for i in range(4):\n",
    "    for _ in range(i+1):\n",
    "        print(num, end=\" \")\n",
    "        num = num + 1\n",
    "    print(\"\\r\")\n",
    "\n"
   ]
  },
  {
   "attachments": {},
   "cell_type": "markdown",
   "metadata": {},
   "source": [
    "# 1B"
   ]
  },
  {
   "cell_type": "code",
   "execution_count": 4,
   "metadata": {},
   "outputs": [
    {
     "name": "stdout",
     "output_type": "stream",
     "text": [
      "HloWrd\n"
     ]
    }
   ],
   "source": [
    "\n",
    "# Write a python program to accept string and remove the characters which have odd index values of given string using user defined function. \n",
    "\n",
    "\n",
    "\n",
    "def remove_odd_index(text):\n",
    "    return text[::2]\n",
    "\n",
    "print(remove_odd_index(\"Hello World\"))"
   ]
  },
  {
   "attachments": {},
   "cell_type": "markdown",
   "metadata": {},
   "source": [
    "# 2A"
   ]
  },
  {
   "cell_type": "code",
   "execution_count": 5,
   "metadata": {},
   "outputs": [
    {
     "name": "stdout",
     "output_type": "stream",
     "text": [
      "153 is an armstrong number\n",
      "154 is not an armstrong number\n"
     ]
    }
   ],
   "source": [
    "# Write a Python program to print whether a given number is Armstrong or not. \n",
    "\n",
    "def armstrong(num):\n",
    "    sum = 0\n",
    "    temp = num\n",
    "    while temp:\n",
    "        digit = temp % 10\n",
    "        sum += digit ** 3\n",
    "        temp //= 10\n",
    "    return f\"{num} is an armstrong number\" if num == sum else f\"{num} is not an armstrong number\"\n",
    "\n",
    "print(armstrong(153))\n",
    "print(armstrong(154))\n"
   ]
  },
  {
   "attachments": {},
   "cell_type": "markdown",
   "metadata": {},
   "source": [
    "# 2B"
   ]
  },
  {
   "cell_type": "code",
   "execution_count": 6,
   "metadata": {},
   "outputs": [
    {
     "name": "stdout",
     "output_type": "stream",
     "text": [
      "Uppercase Characters: 2\n",
      "Lower Characters: 8\n",
      "Uppercase Characters: 3\n",
      "Lower Characters: 16\n"
     ]
    }
   ],
   "source": [
    "# Write a Python function that accepts a string and calculate the number of upper case letters and lower case letters.        \n",
    "\n",
    "def count_upper_lower(text):\n",
    "    upper = 0\n",
    "    lower = 0\n",
    "    for char in text:\n",
    "        if char.isupper():\n",
    "            upper += 1\n",
    "        elif char.islower():\n",
    "            lower += 1\n",
    "    return f\"Uppercase Characters: {upper}\\nLower Characters: {lower}\"\n",
    "\n",
    "print(count_upper_lower(\"Hello World\"))\n",
    "print(count_upper_lower(\"I am a Python Developer!\"))"
   ]
  },
  {
   "attachments": {},
   "cell_type": "markdown",
   "metadata": {},
   "source": [
    "# 3A"
   ]
  },
  {
   "cell_type": "code",
   "execution_count": 7,
   "metadata": {},
   "outputs": [
    {
     "name": "stdout",
     "output_type": "stream",
     "text": [
      "gnirts a esrever ot margorp eht si sihT\n"
     ]
    }
   ],
   "source": [
    "# Write a python program to reverse a string\n",
    "\n",
    "print(\"This is the program to reverse a string\"[::-1])"
   ]
  },
  {
   "attachments": {},
   "cell_type": "markdown",
   "metadata": {},
   "source": [
    "# 3B"
   ]
  },
  {
   "cell_type": "code",
   "execution_count": 8,
   "metadata": {},
   "outputs": [
    {
     "name": "stdout",
     "output_type": "stream",
     "text": [
      "Key Found. Replace with new key/value pair.\n",
      "{'Sunday': 'Fun Day', 'Monday': 'Work Day', 'Wednesday': 'Hump Day', 'Thursday': 'Thirsty Day', 'Friday': 'New Music Yay!', 'Saturday': 'Weekend Baby!', 'Imaginary Day': 'Imaginary Bulls**t'}\n"
     ]
    }
   ],
   "source": [
    "# Write a Python program to check if a given key already exists in a dictionary. If key exists replace with another key/value pair.   \n",
    "\n",
    "days = {\n",
    "    \"Sunday\": \"Fun Day\",\n",
    "    \"Monday\": \"Work Day\",\n",
    "    \"Tuesday\": \"Taco Day\",\n",
    "    \"Wednesday\": \"Hump Day\",\n",
    "    \"Thursday\": \"Thirsty Day\",\n",
    "    \"Friday\": \"New Music Yay!\",\n",
    "    \"Saturday\": \"Weekend Baby!\"\n",
    "}\n",
    "\n",
    "def check_and_replace_key():\n",
    "    key = input(\"Enter a key to check: \")\n",
    "    if key in days:\n",
    "        print(\"Key Found. Replace with new key/value pair.\")\n",
    "        days[key] = \"Imaginary Bulls**t\"\n",
    "        days[\"Imaginary Day\"] = days.pop(key)\n",
    "        print(days)\n",
    "        \n",
    "    else:\n",
    "        print(\"Key not found\")\n",
    "\n",
    "check_and_replace_key()"
   ]
  },
  {
   "attachments": {},
   "cell_type": "markdown",
   "metadata": {},
   "source": [
    "# 4A"
   ]
  },
  {
   "cell_type": "code",
   "execution_count": 9,
   "metadata": {},
   "outputs": [
    {
     "name": "stdout",
     "output_type": "stream",
     "text": [
      "7 is a prime number\n",
      "6 is not a prime number\n",
      "13 is a prime number\n",
      "====================================\n",
      "Factorial of 5 is: 120\n",
      "Factorial of 0 is: 1\n",
      "Factorial of 6 is: 720\n"
     ]
    }
   ],
   "source": [
    "# Write a Python Program to Check if given number is prime or not. Also find factorial of the given number using user defined function. \n",
    "\n",
    "def check_prime(N):\n",
    "    # sourcery skip: remove-unreachable-code, use-next, useless-else-on-loop\n",
    "    if N <= 1:\n",
    "        return(f\"{N} is not a prime number\")\n",
    "    for i in range(2, N):\n",
    "        if (N % i) == 0:\n",
    "            return(f\"{N} is not a prime number\")\n",
    "            break\n",
    "    else:\n",
    "        return(f\"{N} is a prime number\")\n",
    "    \n",
    "    \n",
    "def factorial(N):\n",
    "    return 1 if N == 0 else N * factorial(N-1)\n",
    "\n",
    "\n",
    "print(check_prime(7))\n",
    "print(check_prime(6))\n",
    "print(check_prime(13))\n",
    "print(\"====================================\")\n",
    "print(f\"Factorial of 5 is: {factorial(5)}\")\n",
    "print(f\"Factorial of 0 is: {factorial(0)}\")\n",
    "print(f\"Factorial of 6 is: {factorial(6)}\")"
   ]
  },
  {
   "attachments": {},
   "cell_type": "markdown",
   "metadata": {},
   "source": [
    "# 4B"
   ]
  },
  {
   "cell_type": "code",
   "execution_count": 10,
   "metadata": {},
   "outputs": [
    {
     "name": "stdout",
     "output_type": "stream",
     "text": [
      "Roll no : 1\n",
      "Name : Super Saiyan Goku (SSG)\n",
      "Age : 19\n",
      "Gender : M\n",
      "sub1 marks: 82\n",
      "sub2 marks: 89\n",
      "sub3 marks: 76\n",
      "Super Saiyan Goku (SSG)'s marks: 247\n",
      "====================================\n",
      "Roll no : 2\n",
      "Name : Frieza\n",
      "Age : 20\n",
      "Gender : M\n",
      "sub1 marks: 94\n",
      "sub2 marks: 91\n",
      "sub3 marks: 84\n",
      "Frieza's marks: 269\n",
      "====================================\n",
      "Roll no : 3\n",
      "Name : Bulma\n",
      "Age : 17\n",
      "Gender : F\n",
      "sub1 marks: 92\n",
      "sub2 marks: 89\n",
      "sub3 marks: 86\n",
      "Bulma's marks: 267\n",
      "====================================\n"
     ]
    }
   ],
   "source": [
    "# Write a python script to define a class student having members roll no, name, age, gender. Create a subclass called Test with member marks of 3 subjects. Create three objects of the Test class and display all the details of the student with total marks. \n",
    "\n",
    "class Student():\n",
    "    def __init__(self, roll_no, name, age, gender):\n",
    "        self.roll_no=roll_no\n",
    "        self.name=name\n",
    "        self.age=age\n",
    "        self.gender=gender\n",
    "\n",
    "class Test(Student):\n",
    "    def __init__(self, roll_no, name, age, gender, sub1mark, sub2mark, sub3mark,):\n",
    "        super().__init__(roll_no, name, age, gender)\n",
    "        self.mark1=sub1mark\n",
    "        self.mark2=sub2mark\n",
    "        self.mark3=sub3mark\n",
    "    \n",
    "    def get_all_details(self):\n",
    "        self.total=self.mark1 + self.mark2 + self.mark3\n",
    "\n",
    "        print(f\"Roll no : {self.roll_no}\")\n",
    "        print(f\"Name : {self.name}\") \n",
    "        print(f\"Age : {self.age}\")\n",
    "        print(f\"Gender : {self.gender}\")\n",
    "        \n",
    "        print(f\"sub1 marks: {self.mark1}\")\n",
    "        print(f\"sub2 marks: {self.mark2}\")\n",
    "        print(f\"sub3 marks: {self.mark3}\")\n",
    "        print(f\"{self.name}'s marks: {self.total}\")\n",
    "        print(\"====================================\")\n",
    "                \n",
    "\n",
    "Test(1,\"Super Saiyan Goku (SSG)\",19,'M',82,89,76).get_all_details()\n",
    "Test(2,'Frieza',20,'M',94,91,84).get_all_details()\n",
    "Test(3,'Bulma',17,'F',92,89,86).get_all_details()"
   ]
  },
  {
   "attachments": {},
   "cell_type": "markdown",
   "metadata": {},
   "source": [
    "# 5A"
   ]
  },
  {
   "cell_type": "code",
   "execution_count": 11,
   "metadata": {},
   "outputs": [
    {
     "name": "stdout",
     "output_type": "stream",
     "text": [
      "Area of the square is: 2025.0 sq. units\n",
      "Area of the rectangle is: 400.0 sq. units\n"
     ]
    }
   ],
   "source": [
    "# Write an anonymous function to find area of square and rectangle.\n",
    "\n",
    "area_of_square=lambda x: x**2\n",
    "x=float(input(\"Enter the length of the square: \"))\n",
    "print(f\"Area of the square is: {area_of_square(x)} sq. units\")\n",
    "\n",
    "area_of_rectangle=lambda x,y: x*y\n",
    "x=float(input(\"Enter the length of the rectangle: \"))\n",
    "y=float(input(\"Enter the breadth of the rectangle: \"))\n",
    "print(f\"Area of the rectangle is: {area_of_rectangle(x,y)} sq. units\")"
   ]
  },
  {
   "attachments": {},
   "cell_type": "markdown",
   "metadata": {},
   "source": [
    "# 5B"
   ]
  },
  {
   "cell_type": "code",
   "execution_count": 12,
   "metadata": {},
   "outputs": [
    {
     "name": "stdout",
     "output_type": "stream",
     "text": [
      "Files merged successfully. Check file3.txt\n"
     ]
    }
   ],
   "source": [
    "# Write Python script to create two text files. Enter data in each file and merge the data in the third file.\n",
    "\n",
    "def merge_two_files(file1,file2):  # sourcery skip: path-read\n",
    "    with open(file1) as f:\n",
    "        data1=f.read()\n",
    "    with open(file2) as f:\n",
    "        data2=f.read()\n",
    "    with open(\"5B-file3.txt\",\"w\") as f:\n",
    "        f.write(data1)\n",
    "        f.write(\"\\n\")\n",
    "        f.write(data2)\n",
    "    print(\"Files merged successfully. Check file3.txt\")\n",
    "        \n",
    "\n",
    "with open(\"5B-file1.txt\",\"w\") as f:\n",
    "    f.write(\"This is file 1.\")\n",
    "    \n",
    "with open(\"5B-file2.txt\",\"w\") as f:\n",
    "    f.write(\"This is file 2.\")\n",
    "    \n",
    "merge_two_files(\"5B-file1.txt\", \"5B-file2.txt\")"
   ]
  },
  {
   "attachments": {},
   "cell_type": "markdown",
   "metadata": {},
   "source": [
    "# 6A"
   ]
  },
  {
   "cell_type": "code",
   "execution_count": 13,
   "metadata": {},
   "outputs": [
    {
     "name": "stdout",
     "output_type": "stream",
     "text": [
      "[1, 1, 2, 3]\n"
     ]
    }
   ],
   "source": [
    "# Create a list a = [1, 1, 2, 3, 5, 8, 13, 21, 34, 55, 89] and write a python program that prints out all the elements of the list that are less than 5\n",
    "\n",
    "nums = [1, 1, 2, 3, 5, 8, 13, 21, 34, 55, 89]\n",
    "print([num for num in nums if num<5])"
   ]
  },
  {
   "attachments": {},
   "cell_type": "markdown",
   "metadata": {},
   "source": [
    "# 6B"
   ]
  },
  {
   "cell_type": "code",
   "execution_count": 14,
   "metadata": {},
   "outputs": [
    {
     "name": "stdout",
     "output_type": "stream",
     "text": [
      "HI THERE\n",
      "there hi\n"
     ]
    }
   ],
   "source": [
    "# Write a Python class which has two methods get_String and print_String. get_String accept a string from the user and print_String prints the string in upper case. Further modify the program to reverse a string word by word and print it in lower case.\n",
    "\n",
    "class StringOperations:\n",
    "    def __init__(self):\n",
    "        self.string = str()\n",
    "        \n",
    "    def get_string(self):\n",
    "        self.string = input(\"Enter a string: \")\n",
    "        \n",
    "    def print_string(self):\n",
    "        print(self.string.upper())\n",
    "    \n",
    "    def reverse_string(self):\n",
    "        print(\" \".join(self.string.split()[::-1]).lower())\n",
    "        \n",
    "        \n",
    "my_string=StringOperations()\n",
    "my_string.get_string()\n",
    "my_string.print_string()\n",
    "my_string.reverse_string()\n"
   ]
  },
  {
   "attachments": {},
   "cell_type": "markdown",
   "metadata": {},
   "source": [
    "# 7A"
   ]
  },
  {
   "cell_type": "code",
   "execution_count": 15,
   "metadata": {},
   "outputs": [
    {
     "name": "stdout",
     "output_type": "stream",
     "text": [
      "List with duplicates:  [2, 2, 2]\n",
      "List without duplicates: [2]\n"
     ]
    }
   ],
   "source": [
    "# Write a Python program to accept n numbers in list and remove duplicates from a list.  \n",
    "\n",
    "total_numbers = int(input(\"Enter total numbers: \"))\n",
    "my_list = [int(input(\"Enter number: \")) for _ in range(total_numbers)]\n",
    "print(f\"List with duplicates:  {my_list}\")\n",
    "print(f\"List without duplicates: {list(set(my_list))}\")"
   ]
  },
  {
   "attachments": {},
   "cell_type": "markdown",
   "metadata": {},
   "source": [
    "# 7B"
   ]
  },
  {
   "cell_type": "code",
   "execution_count": 16,
   "metadata": {},
   "outputs": [
    {
     "name": "stdout",
     "output_type": "stream",
     "text": [
      "Name: atharva\n",
      "Address: koregaon park\n",
      "Salary: 75000\n",
      "=================================\n",
      "Name: alex\n",
      "Address: avenue park\n",
      "Salary: 80000\n",
      "=================================\n"
     ]
    }
   ],
   "source": [
    "# Write a python script to define the class Person having members name, address. Create a subclass called Employee with member salary. Create 'n' objects of the Employee class and display all the details of the employees.  \n",
    "\n",
    "class Person:\n",
    "    def __init__(self, name, address):\n",
    "        self.name = name\n",
    "        self.address = address\n",
    "\n",
    "    def display(self):\n",
    "        print(f\"Name: {self.name}\")\n",
    "        print(f\"Address: {self.address}\")\n",
    "        \n",
    "class Employee(Person):\n",
    "    def __init__(self, name, address, salary):\n",
    "        super().__init__(name, address)\n",
    "        self.salary = salary\n",
    "        \n",
    "    def display(self):\n",
    "        super().display()\n",
    "        print(f\"Salary: {self.salary}\")\n",
    "        \n",
    "n = int(input(\"Enter total employees: \"))\n",
    "employees = [Employee(input(\"Enter name: \"), input(\"Enter address: \"), int(input(\"Enter salary: \"))) for _ in range(n)]\n",
    "for employee in employees:\n",
    "    employee.display()\n",
    "    print(\"=================================\")"
   ]
  },
  {
   "attachments": {},
   "cell_type": "markdown",
   "metadata": {},
   "source": [
    "# 8A"
   ]
  },
  {
   "cell_type": "code",
   "execution_count": 17,
   "metadata": {},
   "outputs": [
    {
     "name": "stdout",
     "output_type": "stream",
     "text": [
      "Encrypted Message: riasri\n"
     ]
    }
   ],
   "source": [
    "# Write a  Python program that encrypts a message by adding a key value to every character.  \t\n",
    "\n",
    "def encypt_func(txt, shift):  \n",
    "    result = str()  \n",
    "    for i in range(len(txt)):  \n",
    "        char = txt[i]\n",
    "        if (char.isupper()):  \n",
    "            result += chr((ord(char) + shift - 64) % 26 + 65)\n",
    "        else:  \n",
    "            result += chr((ord(char) + shift - 96) % 26 + 97)  \n",
    "    return result  \n",
    "\n",
    "txt = input('Enter a string : ')\n",
    "shift = int(input('Enter a shift pattern number: '))\n",
    "print(f\"Encrypted Message: {encypt_func(txt, shift)}\")"
   ]
  },
  {
   "attachments": {},
   "cell_type": "markdown",
   "metadata": {},
   "source": [
    "# 8B"
   ]
  },
  {
   "cell_type": "code",
   "execution_count": 18,
   "metadata": {},
   "outputs": [
    {
     "name": "stdout",
     "output_type": "stream",
     "text": [
      "HI\n"
     ]
    }
   ],
   "source": [
    "# Write a Python script using class, which has two methods get_String and print_String. get_String accept a string from the user and print_String print the string in upper case     \n",
    "\n",
    "class StringOperation:\n",
    "    def __init__(self):\n",
    "        self.str = ''\n",
    "    def get_String(self):\n",
    "        self.str = input('Enter a string: ')\n",
    "    def print_String(self):\n",
    "        print(self.str.upper())\n",
    "        \n",
    "str_obj = StringOperation()\n",
    "str_obj.get_String()\n",
    "str_obj.print_String()\n"
   ]
  }
 ],
 "metadata": {
  "kernelspec": {
   "display_name": "Python 3",
   "language": "python",
   "name": "python3"
  },
  "language_info": {
   "codemirror_mode": {
    "name": "ipython",
    "version": 3
   },
   "file_extension": ".py",
   "mimetype": "text/x-python",
   "name": "python",
   "nbconvert_exporter": "python",
   "pygments_lexer": "ipython3",
   "version": "3.10.0"
  },
  "orig_nbformat": 4,
  "vscode": {
   "interpreter": {
    "hash": "26de051ba29f2982a8de78e945f0abaf191376122a1563185a90213a26c5da77"
   }
  }
 },
 "nbformat": 4,
 "nbformat_minor": 2
}
